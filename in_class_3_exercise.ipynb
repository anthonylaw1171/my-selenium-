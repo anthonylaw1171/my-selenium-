{
 "cells": [
  {
   "cell_type": "code",
   "execution_count": 1,
   "metadata": {},
   "outputs": [],
   "source": [
    "from selenium import webdriver\n",
    "from selenium.webdriver.common.by import By\n",
    "from selenium.webdriver.support.ui import WebDriverWait\n",
    "from selenium.webdriver.support import expected_conditions as EC\n",
    "from selenium.webdriver.common import keys\n",
    "from selenium.webdriver.common.keys import Keys\n",
    "\n",
    "import pandas as pd\n",
    "import numpy as np\n",
    "from datetime import datetime\n",
    "import csv\n",
    "from forex_python.converter import CurrencyRates\n"
   ]
  },
  {
   "cell_type": "code",
   "execution_count": 2,
   "metadata": {},
   "outputs": [],
   "source": [
    "driver = webdriver.Chrome()\n",
    "driver.implicitly_wait(10)\n",
    "driver.get('http://imz371.ust.hk/ex3/Welcome%20to%20Python.org.html')\n",
    "driver.maximize_window()\n",
    "\n"
   ]
  },
  {
   "cell_type": "code",
   "execution_count": 5,
   "metadata": {},
   "outputs": [],
   "source": [
    "events = driver.find_element(By.CLASS_NAME,'list-recent-events.menu')"
   ]
  },
  {
   "cell_type": "code",
   "execution_count": 6,
   "metadata": {},
   "outputs": [],
   "source": [
    "elements = events.find_elements(By.TAG_NAME,'li')"
   ]
  },
  {
   "cell_type": "code",
   "execution_count": 9,
   "metadata": {},
   "outputs": [
    {
     "data": {
      "text/plain": [
       "'Event – Introduction to the Python programming language (11)\\n31 Aug. from 4:10am UTC to 1:10pm UTC, 2021\\nLocation: Online\\nIntroduction to the Python programming language (11) , Introduction to the Python programming language (11)'"
      ]
     },
     "execution_count": 9,
     "metadata": {},
     "output_type": "execute_result"
    }
   ],
   "source": [
    "elements[1].text"
   ]
  },
  {
   "cell_type": "code",
   "execution_count": 21,
   "metadata": {},
   "outputs": [
    {
     "data": {
      "text/plain": [
       "['Event – Introduction to the Python programming language (11)',\n",
       " '31 Aug. from 4:10am UTC to 1:10pm UTC, 2021',\n",
       " 'Location: Online',\n",
       " 'Introduction to the Python programming language (11) , Introduction to the Python programming language (11)']"
      ]
     },
     "execution_count": 21,
     "metadata": {},
     "output_type": "execute_result"
    }
   ],
   "source": [
    "elements[1].text.split('\\n')"
   ]
  },
  {
   "cell_type": "code",
   "execution_count": 22,
   "metadata": {},
   "outputs": [],
   "source": [
    "\n"
   ]
  },
  {
   "cell_type": "code",
   "execution_count": 30,
   "metadata": {},
   "outputs": [
    {
     "data": {
      "text/plain": [
       "list"
      ]
     },
     "execution_count": 30,
     "metadata": {},
     "output_type": "execute_result"
    }
   ],
   "source": []
  },
  {
   "cell_type": "code",
   "execution_count": 33,
   "metadata": {},
   "outputs": [
    {
     "name": "stdout",
     "output_type": "stream",
     "text": [
      "[1] Computer Programming for Everybody\n",
      "\n",
      "...programming environment, written in Python, suitable for teaching Python to computer users without previous programming experience. Design and implement a prototype library of Python modules connecting Python to an existing 3D game-playing engine for the purpose of teaching Python in an engaging environment. Write a tutorial that teaches general programming skills and good programming habits to students with no previous programming skills, using the above software. Create and main...\n",
      "\n",
      "[2] Event – Introduction to the Python programming language (11)\n",
      "\n",
      "Introduction to the Python programming language (11) , Introduction to the Python programming language (11)\n",
      "\n",
      "[3] EDU-SIG: Python in Education\n",
      "\n",
      "...Python. It allows Python to talk to SDL, a cross-platform, multimedia library. Because it needs to be compiled for each platform and each Python version, there can be a lag when a new Python version comes along. pyglet is the newcomer, based on OpenGL. Because it is a pure Python package, it can be used as is even when a new Python version is released (except for the Python 2 to Python 3 transition). Miscellaneous Python for secretaries: A resource site aimed at showing business users how t...\n",
      "\n",
      "[4] Computer Programming for Everybody\n",
      "\n",
      "...Python as the programming language for all levels of programming instruction. Python is a particularly appropriate language for this purpose because it is easy to learn, read, and use, yet powerful enough to illustrate essential aspects of programming languages and software engineering. Thus even young students could be taught the basics of programming using Python, but they would not be limited in their application domain as they would be with Logo. The use of Python would allow each stu...\n",
      "\n",
      "[5] Event – Python Web Programming Workshop\n",
      "\n",
      "From 05 Aug. through 09 Aug., 2013\n",
      "\n",
      "[6] Event – Python programming for hardware components\n",
      "\n",
      "Python Web Programming Workshop\n",
      "\n",
      "[7] Event – Introduction to the Python programming language (in Persian)\n",
      "\n",
      "Python programming for hardware components\n",
      "\n",
      "[8] Progenv SIG - Python programming-environment issues\n",
      "\n",
      "Introduction to the Python programming language (in Persian)\n",
      "\n",
      "[9] Event – Workshop programming in Python and Django for women in Bogota\n",
      "\n",
      "...Python programming-environment issues Progenv SIG - Python programming-environment issues This sig has been retired. New postings to the mailing list will be rejected, but the archives of the old list are still available for perusal. See the SIGs home page for info about active and inactive lists. This list was intended for the discussion of the issues concerning the Python programming environment - the facilities, including editors, interpreter, debugge...\n",
      "\n",
      "[10] Event – LUG/PUG Azerbaijan: Introduction to Python Programming\n",
      "\n",
      "Workshop programming in Python and Django for women in Bogota\n",
      "\n",
      "[11] Event – [Iran] Introduction to the Python programming language (12) morning + afternoon\n",
      "\n",
      "From 28 Sept. through 29 Sept., 2013\n",
      "\n",
      "[12] PSF Trademark Usage Policy\n",
      "\n",
      "Introduction to Python Programming, organized by the Azerbaijan Linux User Group and Python User Group. Training is planed for 3 weekends on Saturday and Sunday with ~3-4 hours per day, starting 28.09.2013.\n",
      "\n",
      "[13] Other Documentation Tools\n",
      "\n",
      "Introduction to the Python programming language (12) morning + afternoon part1:08:00 to 10:40 AM part2:02:40 to 5:40 PM https://www.linkedin.com/events/6838480892634234880/ https://www.instagram.com/computer_unsecure2021/\n",
      "\n",
      "[14] Python Software Foundation: Press Release 31-May-2003\n",
      "\n",
      "...Python\" Use of the word \"Python\" in the names of freely distributed products like IronPython, wxPython, Python Extensions, etc. -- Allowed when referring to use with or suitability for the Python programming language. For commercial products, contact the PSF for permission. Use of the word \"Python\" in company names -- Allowed only by prior written permission from the PSF. Use of the word \"Python\" when redistributing the Python programming language as part of a...\n",
      "\n",
      "[15] Python Software Foundation: Press Release 19-Dec-2003\n",
      "\n",
      "...Python. Literate Programming Systems Literate programming systems are also available, but are not covered in this list. I think it would be fair to describe these as \"Document-embedded Source.\" Further information can be found at: The Literate Programming FAQ The Literate Programming Library The Literate Programming Web Ring (list) These resources don't appear to have been updated recently, and I...\n",
      "\n",
      "[16] Comparing Python to Other Languages\n",
      "\n",
      "Python Software Foundation: Press Release 31-May-2003 May 31, 2003 Press Release SOURCE: Python Software Foundation PYTHON SOFTWARE FOUNDATION (PSF) ANNOUNCES PYTHON VERSION 2.2.3 New release enhances powerful programming language FREDERICKSBURG, Va., [May 31, 2003] -- The Python Software Foundation announces the release of version 2.2.3 of the Python programming language. This maintenance release introduces over 120 enhancements to the language and its extensive standard libraries...\n",
      "\n",
      "[17] Python Software Foundation: Press Release 10-Apr-2002\n",
      "\n",
      "Python Software Foundation: Press Release 19-Dec-2003 PYTHON SOFTWARE FOUNDATION (PSF) ANNOUNCES PYTHON VERSION 2.3.3 Maintenance release for the Python programming language FREDERICKSBURG, Va., December 19, 2003 -- The Python Software Foundation (PSF) announces the release of version 2.3.3 of the Python programming language. This minor release provides fixes for a number of problems found in the previous version of Python, including several serious errors with weakrefs and the cyc...\n",
      "\n",
      "[18] Python Software Foundation: Press Release 13-Feb-2003\n",
      "\n",
      "...Python; Python can also be used to prototype components until their design can be \"hardened\" in a Java implementation. To support this type of development, a Python implementation written in Java is under development, which allows calling Python code from Java and vice versa. In this implementation, Python source code is translated to Java bytecode (with help from a run-time library to support Python's dynamic semantics). Javascript Python's \"object-based\" subset is roughly equivalen...\n",
      "\n",
      "[19] Python Software Foundation: Press Release 23-Sep-2003\n",
      "\n",
      "Python Software Foundation: Press Release 10-Apr-2002 Python Software Foundation Announces Python Version 2.2.1 Over 100 enhancements made to powerful programming language Fredericksburg, VA -- April 10th, 2002 -- The Python Software Foundation announced today the release of version 2.2.1 of the Python programming language and standard libraries. This release includes over 100 enhancements for users of version 2.2 of Python. \"We're pleased to offer this release to the Python users...\n",
      "\n",
      "[20] Python Software Foundation: Press Release 3-Oct-2003\n",
      "\n",
      "...Python users and developers: pycondc-2003@python.org. In addition to the Python Software Foundation, other sponsors of the event are software companies involved in the Python community, including Active State, Zeomega, Archaeopteryx Software, and Zoteca. About Python Python is a powerful object oriented programming language that is developed and maintained by a global community of Open Source contributors, under the oversight of the Python Software Foundation (PSF). Python's unique ...\n",
      "\n"
     ]
    }
   ],
   "source": [
    "for i,(header,description) in enumerate(zip(headers,descriptions)):\n",
    "    print(f'[{i+1}] {header}\\n')\n",
    "    print(f'{description}\\n')"
   ]
  },
  {
   "cell_type": "code",
   "execution_count": 29,
   "metadata": {},
   "outputs": [
    {
     "name": "stdout",
     "output_type": "stream",
     "text": [
      "0 Alice 24\n",
      "1 Bob 50\n",
      "2 Charlie 18\n"
     ]
    }
   ],
   "source": [
    "names = ['Alice', 'Bob', 'Charlie']\n",
    "ages = [24, 50, 18]\n",
    "\n",
    "for i, (name, age) in enumerate(zip(names, ages)):\n",
    "    print(i, name, age)\n"
   ]
  },
  {
   "cell_type": "code",
   "execution_count": null,
   "metadata": {},
   "outputs": [],
   "source": []
  }
 ],
 "metadata": {
  "interpreter": {
   "hash": "6ae4afbcd4657bea9c648de37d8f6013600af8bb466fc4888e84422ab1abab5a"
  },
  "kernelspec": {
   "display_name": "Python 3.8.12 ('isom3400')",
   "language": "python",
   "name": "python3"
  },
  "language_info": {
   "codemirror_mode": {
    "name": "ipython",
    "version": 3
   },
   "file_extension": ".py",
   "mimetype": "text/x-python",
   "name": "python",
   "nbconvert_exporter": "python",
   "pygments_lexer": "ipython3",
   "version": "3.8.12"
  },
  "orig_nbformat": 4
 },
 "nbformat": 4,
 "nbformat_minor": 2
}
